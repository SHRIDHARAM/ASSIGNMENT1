{
 "cells": [
  {
   "cell_type": "code",
   "execution_count": 1,
   "id": "a8091c2c",
   "metadata": {},
   "outputs": [],
   "source": [
    "import numpy as np\n",
    "import math \n",
    "\n"
   ]
  },
  {
   "cell_type": "code",
   "execution_count": 9,
   "id": "cb545dee",
   "metadata": {},
   "outputs": [
    {
     "name": "stdout",
     "output_type": "stream",
     "text": [
      "23.811761799581316\n"
     ]
    }
   ],
   "source": [
    "#given position vectors when axes are orthogonal.\n",
    "x = np.array([-13,-3]) \n",
    "y = np.array([-4,15])\n",
    "\n",
    "#when axes are inclined 60 degree to each other.\n",
    "#with the help of a transform vector(which can be formed by locating where i and j lands after transformation) we can find new position vectors.\n",
    "\n",
    "T = np.array([[1, math.cos(math.radians(60))], [0, math.sin(math.radians(60))]])\n",
    "\n",
    "\n",
    "#new position vectors after transformation\n",
    "A = T.dot(x)\n",
    "\n",
    "B = T.dot(y)\n",
    "\n",
    "#distance using norm\n",
    "distance = np.linalg.norm(A-B)\n",
    "print(distance)\n",
    "\n"
   ]
  },
  {
   "cell_type": "code",
   "execution_count": null,
   "id": "62b66fe9",
   "metadata": {},
   "outputs": [],
   "source": []
  }
 ],
 "metadata": {
  "kernelspec": {
   "display_name": "Python 3 (ipykernel)",
   "language": "python",
   "name": "python3"
  },
  "language_info": {
   "codemirror_mode": {
    "name": "ipython",
    "version": 3
   },
   "file_extension": ".py",
   "mimetype": "text/x-python",
   "name": "python",
   "nbconvert_exporter": "python",
   "pygments_lexer": "ipython3",
   "version": "3.9.7"
  }
 },
 "nbformat": 4,
 "nbformat_minor": 5
}
