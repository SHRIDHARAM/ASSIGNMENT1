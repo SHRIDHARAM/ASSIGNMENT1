{
  "nbformat": 4,
  "nbformat_minor": 0,
  "metadata": {
    "colab": {
      "name": "MLASSIGNMENT2(Q4).ipynb",
      "provenance": [],
      "collapsed_sections": [],
      "authorship_tag": "ABX9TyMDBqv2IyeQOu2ShmgYUkss",
      "include_colab_link": true
    },
    "kernelspec": {
      "name": "python3",
      "display_name": "Python 3"
    },
    "language_info": {
      "name": "python"
    }
  },
  "cells": [
    {
      "cell_type": "markdown",
      "metadata": {
        "id": "view-in-github",
        "colab_type": "text"
      },
      "source": [
        "<a href=\"https://colab.research.google.com/github/SHRIDHARAM/ASSIGNMENT1/blob/main/MLASSIGNMENT2(Q4).ipynb\" target=\"_parent\"><img src=\"https://colab.research.google.com/assets/colab-badge.svg\" alt=\"Open In Colab\"/></a>"
      ]
    },
    {
      "cell_type": "markdown",
      "metadata": {
        "id": "r-De8Yo740LW"
      },
      "source": [
        "# **QUESTION** **4**\n",
        "# PART(A)"
      ]
    },
    {
      "cell_type": "code",
      "metadata": {
        "id": "ZtwV5zKOVFaw"
      },
      "source": [
        "import pandas as pd\n",
        "import matplotlib.pyplot as plt\n",
        "import seaborn as sns \n",
        "import numpy as np"
      ],
      "execution_count": 1,
      "outputs": []
    },
    {
      "cell_type": "markdown",
      "metadata": {
        "id": "ioThkwiG4ywf"
      },
      "source": [
        ""
      ]
    },
    {
      "cell_type": "code",
      "metadata": {
        "id": "ryKsKf40hdUi",
        "colab": {
          "base_uri": "https://localhost:8080/"
        },
        "outputId": "fc961819-ffe7-4982-dcad-375fb8135687"
      },
      "source": [
        "train_df = pd.read_csv('http://www.amlbook.com/data/zip/features.train', sep = \"  \", names = ['numbers','intensity','symmetry'])"
      ],
      "execution_count": 2,
      "outputs": [
        {
          "output_type": "stream",
          "name": "stderr",
          "text": [
            "/usr/local/lib/python3.7/dist-packages/ipykernel_launcher.py:1: ParserWarning: Falling back to the 'python' engine because the 'c' engine does not support regex separators (separators > 1 char and different from '\\s+' are interpreted as regex); you can avoid this warning by specifying engine='python'.\n",
            "  \"\"\"Entry point for launching an IPython kernel.\n"
          ]
        }
      ]
    },
    {
      "cell_type": "code",
      "metadata": {
        "colab": {
          "base_uri": "https://localhost:8080/",
          "height": 204
        },
        "id": "fuSprba7bOhI",
        "outputId": "eca9c00f-0ab8-44a0-a1b4-de8c5f23f688"
      },
      "source": [
        "train_df.head()"
      ],
      "execution_count": 3,
      "outputs": [
        {
          "output_type": "execute_result",
          "data": {
            "text/html": [
              "<div>\n",
              "<style scoped>\n",
              "    .dataframe tbody tr th:only-of-type {\n",
              "        vertical-align: middle;\n",
              "    }\n",
              "\n",
              "    .dataframe tbody tr th {\n",
              "        vertical-align: top;\n",
              "    }\n",
              "\n",
              "    .dataframe thead th {\n",
              "        text-align: right;\n",
              "    }\n",
              "</style>\n",
              "<table border=\"1\" class=\"dataframe\">\n",
              "  <thead>\n",
              "    <tr style=\"text-align: right;\">\n",
              "      <th></th>\n",
              "      <th>numbers</th>\n",
              "      <th>intensity</th>\n",
              "      <th>symmetry</th>\n",
              "    </tr>\n",
              "  </thead>\n",
              "  <tbody>\n",
              "    <tr>\n",
              "      <th>0</th>\n",
              "      <td>6.0</td>\n",
              "      <td>0.341092</td>\n",
              "      <td>-4.528937</td>\n",
              "    </tr>\n",
              "    <tr>\n",
              "      <th>1</th>\n",
              "      <td>5.0</td>\n",
              "      <td>0.444131</td>\n",
              "      <td>-5.496812</td>\n",
              "    </tr>\n",
              "    <tr>\n",
              "      <th>2</th>\n",
              "      <td>4.0</td>\n",
              "      <td>0.231002</td>\n",
              "      <td>-2.886750</td>\n",
              "    </tr>\n",
              "    <tr>\n",
              "      <th>3</th>\n",
              "      <td>7.0</td>\n",
              "      <td>0.200275</td>\n",
              "      <td>-3.534375</td>\n",
              "    </tr>\n",
              "    <tr>\n",
              "      <th>4</th>\n",
              "      <td>3.0</td>\n",
              "      <td>0.291936</td>\n",
              "      <td>-4.352062</td>\n",
              "    </tr>\n",
              "  </tbody>\n",
              "</table>\n",
              "</div>"
            ],
            "text/plain": [
              "   numbers  intensity  symmetry\n",
              "0      6.0   0.341092 -4.528937\n",
              "1      5.0   0.444131 -5.496812\n",
              "2      4.0   0.231002 -2.886750\n",
              "3      7.0   0.200275 -3.534375\n",
              "4      3.0   0.291936 -4.352062"
            ]
          },
          "metadata": {},
          "execution_count": 3
        }
      ]
    },
    {
      "cell_type": "code",
      "metadata": {
        "colab": {
          "base_uri": "https://localhost:8080/",
          "height": 204
        },
        "id": "PiG2i0MiXuLI",
        "outputId": "5a9c83cd-4f64-4d6e-c981-23d5457288fb"
      },
      "source": [
        "train_df = train_df.loc[(train_df['numbers']== 1) | (train_df['numbers']== 5)] \n",
        "train_df.head()"
      ],
      "execution_count": 4,
      "outputs": [
        {
          "output_type": "execute_result",
          "data": {
            "text/html": [
              "<div>\n",
              "<style scoped>\n",
              "    .dataframe tbody tr th:only-of-type {\n",
              "        vertical-align: middle;\n",
              "    }\n",
              "\n",
              "    .dataframe tbody tr th {\n",
              "        vertical-align: top;\n",
              "    }\n",
              "\n",
              "    .dataframe thead th {\n",
              "        text-align: right;\n",
              "    }\n",
              "</style>\n",
              "<table border=\"1\" class=\"dataframe\">\n",
              "  <thead>\n",
              "    <tr style=\"text-align: right;\">\n",
              "      <th></th>\n",
              "      <th>numbers</th>\n",
              "      <th>intensity</th>\n",
              "      <th>symmetry</th>\n",
              "    </tr>\n",
              "  </thead>\n",
              "  <tbody>\n",
              "    <tr>\n",
              "      <th>1</th>\n",
              "      <td>5.0</td>\n",
              "      <td>0.444131</td>\n",
              "      <td>-5.496812</td>\n",
              "    </tr>\n",
              "    <tr>\n",
              "      <th>7</th>\n",
              "      <td>1.0</td>\n",
              "      <td>0.123043</td>\n",
              "      <td>-0.707875</td>\n",
              "    </tr>\n",
              "    <tr>\n",
              "      <th>9</th>\n",
              "      <td>1.0</td>\n",
              "      <td>0.113859</td>\n",
              "      <td>-0.931375</td>\n",
              "    </tr>\n",
              "    <tr>\n",
              "      <th>12</th>\n",
              "      <td>1.0</td>\n",
              "      <td>0.115371</td>\n",
              "      <td>-0.386000</td>\n",
              "    </tr>\n",
              "    <tr>\n",
              "      <th>13</th>\n",
              "      <td>1.0</td>\n",
              "      <td>0.102281</td>\n",
              "      <td>-0.378812</td>\n",
              "    </tr>\n",
              "  </tbody>\n",
              "</table>\n",
              "</div>"
            ],
            "text/plain": [
              "    numbers  intensity  symmetry\n",
              "1       5.0   0.444131 -5.496812\n",
              "7       1.0   0.123043 -0.707875\n",
              "9       1.0   0.113859 -0.931375\n",
              "12      1.0   0.115371 -0.386000\n",
              "13      1.0   0.102281 -0.378812"
            ]
          },
          "metadata": {},
          "execution_count": 4
        }
      ]
    },
    {
      "cell_type": "code",
      "metadata": {
        "colab": {
          "base_uri": "https://localhost:8080/"
        },
        "id": "b_j0GQbsbgYg",
        "outputId": "bfa0f542-31af-4094-e4f1-2c81361c1054"
      },
      "source": [
        "label_x = train_df['numbers']\n",
        "label_x.head()\n"
      ],
      "execution_count": 7,
      "outputs": [
        {
          "output_type": "execute_result",
          "data": {
            "text/plain": [
              "1     5.0\n",
              "7     1.0\n",
              "9     1.0\n",
              "12    1.0\n",
              "13    1.0\n",
              "Name: numbers, dtype: float64"
            ]
          },
          "metadata": {},
          "execution_count": 7
        }
      ]
    },
    {
      "cell_type": "code",
      "metadata": {
        "id": "pkS0mXHIbx8k"
      },
      "source": [
        "train_x = train_df.drop(['numbers'], axis=1)\n",
        "\n"
      ],
      "execution_count": 8,
      "outputs": []
    },
    {
      "cell_type": "code",
      "metadata": {
        "colab": {
          "base_uri": "https://localhost:8080/",
          "height": 204
        },
        "id": "-I0vI_1Jln8e",
        "outputId": "68d03c70-1cca-430e-cd62-6382783fb8e6"
      },
      "source": [
        "train_x.head()"
      ],
      "execution_count": 9,
      "outputs": [
        {
          "output_type": "execute_result",
          "data": {
            "text/html": [
              "<div>\n",
              "<style scoped>\n",
              "    .dataframe tbody tr th:only-of-type {\n",
              "        vertical-align: middle;\n",
              "    }\n",
              "\n",
              "    .dataframe tbody tr th {\n",
              "        vertical-align: top;\n",
              "    }\n",
              "\n",
              "    .dataframe thead th {\n",
              "        text-align: right;\n",
              "    }\n",
              "</style>\n",
              "<table border=\"1\" class=\"dataframe\">\n",
              "  <thead>\n",
              "    <tr style=\"text-align: right;\">\n",
              "      <th></th>\n",
              "      <th>intensity</th>\n",
              "      <th>symmetry</th>\n",
              "    </tr>\n",
              "  </thead>\n",
              "  <tbody>\n",
              "    <tr>\n",
              "      <th>1</th>\n",
              "      <td>0.444131</td>\n",
              "      <td>-5.496812</td>\n",
              "    </tr>\n",
              "    <tr>\n",
              "      <th>7</th>\n",
              "      <td>0.123043</td>\n",
              "      <td>-0.707875</td>\n",
              "    </tr>\n",
              "    <tr>\n",
              "      <th>9</th>\n",
              "      <td>0.113859</td>\n",
              "      <td>-0.931375</td>\n",
              "    </tr>\n",
              "    <tr>\n",
              "      <th>12</th>\n",
              "      <td>0.115371</td>\n",
              "      <td>-0.386000</td>\n",
              "    </tr>\n",
              "    <tr>\n",
              "      <th>13</th>\n",
              "      <td>0.102281</td>\n",
              "      <td>-0.378812</td>\n",
              "    </tr>\n",
              "  </tbody>\n",
              "</table>\n",
              "</div>"
            ],
            "text/plain": [
              "    intensity  symmetry\n",
              "1    0.444131 -5.496812\n",
              "7    0.123043 -0.707875\n",
              "9    0.113859 -0.931375\n",
              "12   0.115371 -0.386000\n",
              "13   0.102281 -0.378812"
            ]
          },
          "metadata": {},
          "execution_count": 9
        }
      ]
    },
    {
      "cell_type": "code",
      "metadata": {
        "colab": {
          "base_uri": "https://localhost:8080/"
        },
        "id": "ndXNTiYJdV7z",
        "outputId": "cdf48cd1-b7f8-47f1-e91d-39a984c55589"
      },
      "source": [
        "test_df = pd.read_csv('http://www.amlbook.com/data/zip/features.test', sep = \"  \", names = ['numbers','intensity','symmetry'])"
      ],
      "execution_count": 10,
      "outputs": [
        {
          "output_type": "stream",
          "name": "stderr",
          "text": [
            "/usr/local/lib/python3.7/dist-packages/ipykernel_launcher.py:1: ParserWarning: Falling back to the 'python' engine because the 'c' engine does not support regex separators (separators > 1 char and different from '\\s+' are interpreted as regex); you can avoid this warning by specifying engine='python'.\n",
            "  \"\"\"Entry point for launching an IPython kernel.\n"
          ]
        }
      ]
    },
    {
      "cell_type": "code",
      "metadata": {
        "colab": {
          "base_uri": "https://localhost:8080/",
          "height": 204
        },
        "id": "q5IOQkenmNXD",
        "outputId": "0095f79c-0ea4-4c6b-ba7e-61d984e3425b"
      },
      "source": [
        "test_df.head()"
      ],
      "execution_count": 11,
      "outputs": [
        {
          "output_type": "execute_result",
          "data": {
            "text/html": [
              "<div>\n",
              "<style scoped>\n",
              "    .dataframe tbody tr th:only-of-type {\n",
              "        vertical-align: middle;\n",
              "    }\n",
              "\n",
              "    .dataframe tbody tr th {\n",
              "        vertical-align: top;\n",
              "    }\n",
              "\n",
              "    .dataframe thead th {\n",
              "        text-align: right;\n",
              "    }\n",
              "</style>\n",
              "<table border=\"1\" class=\"dataframe\">\n",
              "  <thead>\n",
              "    <tr style=\"text-align: right;\">\n",
              "      <th></th>\n",
              "      <th>numbers</th>\n",
              "      <th>intensity</th>\n",
              "      <th>symmetry</th>\n",
              "    </tr>\n",
              "  </thead>\n",
              "  <tbody>\n",
              "    <tr>\n",
              "      <th>0</th>\n",
              "      <td>9.0</td>\n",
              "      <td>0.272178</td>\n",
              "      <td>-4.847937</td>\n",
              "    </tr>\n",
              "    <tr>\n",
              "      <th>1</th>\n",
              "      <td>6.0</td>\n",
              "      <td>0.265133</td>\n",
              "      <td>-5.102000</td>\n",
              "    </tr>\n",
              "    <tr>\n",
              "      <th>2</th>\n",
              "      <td>3.0</td>\n",
              "      <td>0.335926</td>\n",
              "      <td>-2.921562</td>\n",
              "    </tr>\n",
              "    <tr>\n",
              "      <th>3</th>\n",
              "      <td>6.0</td>\n",
              "      <td>0.264850</td>\n",
              "      <td>-4.156625</td>\n",
              "    </tr>\n",
              "    <tr>\n",
              "      <th>4</th>\n",
              "      <td>6.0</td>\n",
              "      <td>0.345338</td>\n",
              "      <td>-6.718438</td>\n",
              "    </tr>\n",
              "  </tbody>\n",
              "</table>\n",
              "</div>"
            ],
            "text/plain": [
              "   numbers  intensity  symmetry\n",
              "0      9.0   0.272178 -4.847937\n",
              "1      6.0   0.265133 -5.102000\n",
              "2      3.0   0.335926 -2.921562\n",
              "3      6.0   0.264850 -4.156625\n",
              "4      6.0   0.345338 -6.718438"
            ]
          },
          "metadata": {},
          "execution_count": 11
        }
      ]
    },
    {
      "cell_type": "code",
      "metadata": {
        "colab": {
          "base_uri": "https://localhost:8080/",
          "height": 204
        },
        "id": "-m_i9ZYlmSCA",
        "outputId": "77b59ea0-6641-49b0-f1c2-fabed338816c"
      },
      "source": [
        "test_df = test_df.loc[(test_df['numbers']== 1) | (test_df['numbers']== 5)] \n",
        "test_df.head()"
      ],
      "execution_count": 12,
      "outputs": [
        {
          "output_type": "execute_result",
          "data": {
            "text/html": [
              "<div>\n",
              "<style scoped>\n",
              "    .dataframe tbody tr th:only-of-type {\n",
              "        vertical-align: middle;\n",
              "    }\n",
              "\n",
              "    .dataframe tbody tr th {\n",
              "        vertical-align: top;\n",
              "    }\n",
              "\n",
              "    .dataframe thead th {\n",
              "        text-align: right;\n",
              "    }\n",
              "</style>\n",
              "<table border=\"1\" class=\"dataframe\">\n",
              "  <thead>\n",
              "    <tr style=\"text-align: right;\">\n",
              "      <th></th>\n",
              "      <th>numbers</th>\n",
              "      <th>intensity</th>\n",
              "      <th>symmetry</th>\n",
              "    </tr>\n",
              "  </thead>\n",
              "  <tbody>\n",
              "    <tr>\n",
              "      <th>16</th>\n",
              "      <td>1.0</td>\n",
              "      <td>0.159934</td>\n",
              "      <td>-1.742000</td>\n",
              "    </tr>\n",
              "    <tr>\n",
              "      <th>32</th>\n",
              "      <td>5.0</td>\n",
              "      <td>0.324840</td>\n",
              "      <td>-6.360563</td>\n",
              "    </tr>\n",
              "    <tr>\n",
              "      <th>36</th>\n",
              "      <td>5.0</td>\n",
              "      <td>0.251180</td>\n",
              "      <td>-4.389375</td>\n",
              "    </tr>\n",
              "    <tr>\n",
              "      <th>42</th>\n",
              "      <td>1.0</td>\n",
              "      <td>0.124609</td>\n",
              "      <td>-0.474438</td>\n",
              "    </tr>\n",
              "    <tr>\n",
              "      <th>45</th>\n",
              "      <td>1.0</td>\n",
              "      <td>0.219117</td>\n",
              "      <td>-0.904500</td>\n",
              "    </tr>\n",
              "  </tbody>\n",
              "</table>\n",
              "</div>"
            ],
            "text/plain": [
              "    numbers  intensity  symmetry\n",
              "16      1.0   0.159934 -1.742000\n",
              "32      5.0   0.324840 -6.360563\n",
              "36      5.0   0.251180 -4.389375\n",
              "42      1.0   0.124609 -0.474438\n",
              "45      1.0   0.219117 -0.904500"
            ]
          },
          "metadata": {},
          "execution_count": 12
        }
      ]
    },
    {
      "cell_type": "code",
      "metadata": {
        "colab": {
          "base_uri": "https://localhost:8080/"
        },
        "id": "gj81Kc4Cu9RH",
        "outputId": "f8dd9d8f-dcbe-4386-8735-09b43d8cb813"
      },
      "source": [
        "label_y = test_df['numbers']\n",
        "label_y.head()"
      ],
      "execution_count": 14,
      "outputs": [
        {
          "output_type": "execute_result",
          "data": {
            "text/plain": [
              "16    1.0\n",
              "32    5.0\n",
              "36    5.0\n",
              "42    1.0\n",
              "45    1.0\n",
              "Name: numbers, dtype: float64"
            ]
          },
          "metadata": {},
          "execution_count": 14
        }
      ]
    },
    {
      "cell_type": "code",
      "metadata": {
        "colab": {
          "base_uri": "https://localhost:8080/",
          "height": 204
        },
        "id": "0b6sUQyDeHq0",
        "outputId": "c9ea12ff-99a9-49c0-a685-1abfe7c71dc9"
      },
      "source": [
        "test_y = test_df.drop(['numbers'], axis=1)\n",
        "test_y.head()"
      ],
      "execution_count": 15,
      "outputs": [
        {
          "output_type": "execute_result",
          "data": {
            "text/html": [
              "<div>\n",
              "<style scoped>\n",
              "    .dataframe tbody tr th:only-of-type {\n",
              "        vertical-align: middle;\n",
              "    }\n",
              "\n",
              "    .dataframe tbody tr th {\n",
              "        vertical-align: top;\n",
              "    }\n",
              "\n",
              "    .dataframe thead th {\n",
              "        text-align: right;\n",
              "    }\n",
              "</style>\n",
              "<table border=\"1\" class=\"dataframe\">\n",
              "  <thead>\n",
              "    <tr style=\"text-align: right;\">\n",
              "      <th></th>\n",
              "      <th>intensity</th>\n",
              "      <th>symmetry</th>\n",
              "    </tr>\n",
              "  </thead>\n",
              "  <tbody>\n",
              "    <tr>\n",
              "      <th>16</th>\n",
              "      <td>0.159934</td>\n",
              "      <td>-1.742000</td>\n",
              "    </tr>\n",
              "    <tr>\n",
              "      <th>32</th>\n",
              "      <td>0.324840</td>\n",
              "      <td>-6.360563</td>\n",
              "    </tr>\n",
              "    <tr>\n",
              "      <th>36</th>\n",
              "      <td>0.251180</td>\n",
              "      <td>-4.389375</td>\n",
              "    </tr>\n",
              "    <tr>\n",
              "      <th>42</th>\n",
              "      <td>0.124609</td>\n",
              "      <td>-0.474438</td>\n",
              "    </tr>\n",
              "    <tr>\n",
              "      <th>45</th>\n",
              "      <td>0.219117</td>\n",
              "      <td>-0.904500</td>\n",
              "    </tr>\n",
              "  </tbody>\n",
              "</table>\n",
              "</div>"
            ],
            "text/plain": [
              "    intensity  symmetry\n",
              "16   0.159934 -1.742000\n",
              "32   0.324840 -6.360563\n",
              "36   0.251180 -4.389375\n",
              "42   0.124609 -0.474438\n",
              "45   0.219117 -0.904500"
            ]
          },
          "metadata": {},
          "execution_count": 15
        }
      ]
    },
    {
      "cell_type": "code",
      "metadata": {
        "id": "_6O0U1W2eitb"
      },
      "source": [
        "from sklearn.svm import SVC"
      ],
      "execution_count": 23,
      "outputs": []
    },
    {
      "cell_type": "code",
      "metadata": {
        "id": "WQZ5WJG7kGwz"
      },
      "source": [
        "linear_model = SVC(kernel=\"linear\")"
      ],
      "execution_count": 26,
      "outputs": []
    },
    {
      "cell_type": "code",
      "metadata": {
        "colab": {
          "base_uri": "https://localhost:8080/"
        },
        "id": "7cM3aJ1jlCpk",
        "outputId": "a797165a-444b-4b79-dda3-56170ad2cb4e"
      },
      "source": [
        "linear_model.fit(train_x,label_x)"
      ],
      "execution_count": 18,
      "outputs": [
        {
          "output_type": "execute_result",
          "data": {
            "text/plain": [
              "SVC(C=1.0, break_ties=False, cache_size=200, class_weight=None, coef0=0.0,\n",
              "    decision_function_shape='ovr', degree=3, gamma='scale', kernel='linear',\n",
              "    max_iter=-1, probability=False, random_state=None, shrinking=True,\n",
              "    tol=0.001, verbose=False)"
            ]
          },
          "metadata": {},
          "execution_count": 18
        }
      ]
    },
    {
      "cell_type": "code",
      "metadata": {
        "colab": {
          "base_uri": "https://localhost:8080/"
        },
        "id": "kBlpgqDtlPB9",
        "outputId": "b5a3e67d-5b46-4925-c55e-2150f94d02ac"
      },
      "source": [
        "linear_model.score(test_y,label_y)"
      ],
      "execution_count": 19,
      "outputs": [
        {
          "output_type": "execute_result",
          "data": {
            "text/plain": [
              "0.9787735849056604"
            ]
          },
          "metadata": {},
          "execution_count": 19
        }
      ]
    },
    {
      "cell_type": "markdown",
      "metadata": {
        "id": "_wN3W9W45D0c"
      },
      "source": [
        "# **PART**(**B**)"
      ]
    },
    {
      "cell_type": "code",
      "metadata": {
        "colab": {
          "base_uri": "https://localhost:8080/"
        },
        "id": "tTKjoZeh6axK",
        "outputId": "37c6e67c-4b5c-4d5f-c320-930d7bb125ec"
      },
      "source": [
        "x = [50,100,200,800]\n",
        "\n",
        "for i in x:\n",
        "  l = train_x[:i] \n",
        "  m = label_x[:i]\n",
        "  linear_model.fit(l,m)\n",
        "  score = linear_model.score(test_y,label_y)\n",
        "  print(f\"the score for first {i} dataset is {score}\")"
      ],
      "execution_count": 21,
      "outputs": [
        {
          "output_type": "stream",
          "name": "stdout",
          "text": [
            "the score for first 50 dataset is 0.9811320754716981\n",
            "the score for first 100 dataset is 0.9811320754716981\n",
            "the score for first 200 dataset is 0.9811320754716981\n",
            "the score for first 800 dataset is 0.9811320754716981\n"
          ]
        }
      ]
    },
    {
      "cell_type": "markdown",
      "metadata": {
        "id": "EbYXHGlOZDsN"
      },
      "source": [
        "## **PART**(**C**) \n",
        "(i) FALSE, THE ERROR IS MORE IN Q=2"
      ]
    },
    {
      "cell_type": "code",
      "metadata": {
        "colab": {
          "base_uri": "https://localhost:8080/"
        },
        "id": "tk7ggITtZcbF",
        "outputId": "19269f3c-c3c1-46c2-a9b3-37557a589940"
      },
      "source": [
        "poly_model = SVC(kernel=\"poly\", degree=2, C =.0001)\n",
        "poly_model.fit(train_x,label_x)\n",
        "poly_model.score(train_x,label_x)"
      ],
      "execution_count": 31,
      "outputs": [
        {
          "output_type": "execute_result",
          "data": {
            "text/plain": [
              "0.6591928251121076"
            ]
          },
          "metadata": {},
          "execution_count": 31
        }
      ]
    },
    {
      "cell_type": "code",
      "metadata": {
        "colab": {
          "base_uri": "https://localhost:8080/"
        },
        "id": "TBV600b2dO8M",
        "outputId": "672cf7f3-da2a-43a7-d588-15c04b94c050"
      },
      "source": [
        "poly_model = SVC(kernel=\"poly\", degree=5, C =.0001)\n",
        "poly_model.fit(train_x,label_x)\n",
        "poly_model.score(train_x,label_x)"
      ],
      "execution_count": 32,
      "outputs": [
        {
          "output_type": "execute_result",
          "data": {
            "text/plain": [
              "0.9481101857783472"
            ]
          },
          "metadata": {},
          "execution_count": 32
        }
      ]
    },
    {
      "cell_type": "markdown",
      "metadata": {
        "id": "oQlZjlgMfE9l"
      },
      "source": [
        "(ii) TRUE, Q =5 HAS 158 WHILE Q=2 HAS 558"
      ]
    },
    {
      "cell_type": "code",
      "metadata": {
        "colab": {
          "base_uri": "https://localhost:8080/"
        },
        "id": "gRg2jI53fQAT",
        "outputId": "178e29a3-53d5-4f1b-b17c-bb24a17f3842"
      },
      "source": [
        "poly_model = SVC(kernel=\"poly\", degree=2, C =.001)\n",
        "poly_model.fit(train_x,label_x)\n",
        "poly_model.score(test_y,label_y)\n",
        "a = poly_model.support_vectors_\n",
        "print(len(a))"
      ],
      "execution_count": 35,
      "outputs": [
        {
          "output_type": "stream",
          "name": "stdout",
          "text": [
            "558\n"
          ]
        }
      ]
    },
    {
      "cell_type": "code",
      "metadata": {
        "colab": {
          "base_uri": "https://localhost:8080/"
        },
        "id": "OfryKvyafkGO",
        "outputId": "d1a5db7f-e0ab-49fc-9f48-c91a6bcd2ace"
      },
      "source": [
        "poly_model = SVC(kernel=\"poly\", degree=5, C =.001)\n",
        "poly_model.fit(train_x,label_x)\n",
        "poly_model.score(test_y,label_y)\n",
        "b = poly_model.support_vectors_\n",
        "print(len(b))"
      ],
      "execution_count": 36,
      "outputs": [
        {
          "output_type": "stream",
          "name": "stdout",
          "text": [
            "158\n"
          ]
        }
      ]
    },
    {
      "cell_type": "markdown",
      "metadata": {
        "id": "fSScRHOhg9wK"
      },
      "source": [
        "TRUE, ITS BIT HIGHER THAN Q=2"
      ]
    },
    {
      "cell_type": "code",
      "metadata": {
        "colab": {
          "base_uri": "https://localhost:8080/"
        },
        "id": "d1BlybyehCag",
        "outputId": "dfe65e9f-e6bb-40a7-84af-85f7416da7ab"
      },
      "source": [
        "poly_model = SVC(kernel=\"poly\", degree=2, C =.01)\n",
        "poly_model.fit(train_x,label_x)\n",
        "poly_model.score(train_x,label_x)"
      ],
      "execution_count": 37,
      "outputs": [
        {
          "output_type": "execute_result",
          "data": {
            "text/plain": [
              "0.9923126201153107"
            ]
          },
          "metadata": {},
          "execution_count": 37
        }
      ]
    },
    {
      "cell_type": "code",
      "metadata": {
        "colab": {
          "base_uri": "https://localhost:8080/"
        },
        "id": "Ml7TzzlBi90q",
        "outputId": "95c1f5a9-353f-4165-822e-1a1532908954"
      },
      "source": [
        "poly_model = SVC(kernel=\"poly\", degree=5, C =.01)\n",
        "poly_model.fit(train_x,label_x)\n",
        "poly_model.score(train_x,label_x)"
      ],
      "execution_count": 38,
      "outputs": [
        {
          "output_type": "execute_result",
          "data": {
            "text/plain": [
              "0.9916720051249199"
            ]
          },
          "metadata": {},
          "execution_count": 38
        }
      ]
    },
    {
      "cell_type": "markdown",
      "metadata": {
        "id": "XG9OlHTljT0u"
      },
      "source": [
        "(iv) TRUE, TEST ERROR BIT HIGHER THAN Q=5"
      ]
    },
    {
      "cell_type": "code",
      "metadata": {
        "colab": {
          "base_uri": "https://localhost:8080/"
        },
        "id": "ESxlrOrVjej_",
        "outputId": "79cad8f7-752d-42b0-ea7d-46d6f0d0aed8"
      },
      "source": [
        "poly_model = SVC(kernel=\"poly\", degree=2, C =1)\n",
        "poly_model.fit(train_x,label_x)\n",
        "poly_model.score(test_y,label_y)"
      ],
      "execution_count": 39,
      "outputs": [
        {
          "output_type": "execute_result",
          "data": {
            "text/plain": [
              "0.9811320754716981"
            ]
          },
          "metadata": {},
          "execution_count": 39
        }
      ]
    },
    {
      "cell_type": "code",
      "metadata": {
        "colab": {
          "base_uri": "https://localhost:8080/"
        },
        "id": "Ay-3l2CqjiAA",
        "outputId": "9e580390-19bc-4f3f-c76b-03d97e74cc65"
      },
      "source": [
        "poly_model = SVC(kernel=\"poly\", degree=5, C =1)\n",
        "poly_model.fit(train_x,label_x)\n",
        "poly_model.score(test_y,label_y)"
      ],
      "execution_count": 40,
      "outputs": [
        {
          "output_type": "execute_result",
          "data": {
            "text/plain": [
              "0.9834905660377359"
            ]
          },
          "metadata": {},
          "execution_count": 40
        }
      ]
    },
    {
      "cell_type": "markdown",
      "metadata": {
        "id": "PIc3rN_0kaxe"
      },
      "source": [
        "# **PART(D)**\n",
        "(a) test error , c= 100, 10000 has the lowest error"
      ]
    },
    {
      "cell_type": "code",
      "metadata": {
        "colab": {
          "base_uri": "https://localhost:8080/"
        },
        "id": "TXNHijm1kgfA",
        "outputId": "38932f78-f280-40d1-d48e-5121ea7330b7"
      },
      "source": [
        "k=[0.01,1,100,10**4,10**6]\n",
        "for i in k:\n",
        "  rbf_model = SVC(kernel=\"rbf\", C =i)\n",
        "  rbf_model.fit(train_x,label_x)\n",
        "  s = rbf_model.score(test_y,label_y)\n",
        "  print(f\"the score for c=  {i} is {s}\") \n"
      ],
      "execution_count": 43,
      "outputs": [
        {
          "output_type": "stream",
          "name": "stdout",
          "text": [
            "the score for c=  0.01 is 0.9834905660377359\n",
            "the score for c=  1 is 0.9787735849056604\n",
            "the score for c=  100 is 0.9811320754716981\n",
            "the score for c=  10000 is 0.9811320754716981\n",
            "the score for c=  1000000 is 0.9764150943396226\n"
          ]
        }
      ]
    },
    {
      "cell_type": "markdown",
      "metadata": {
        "id": "SHHEl44InB43"
      },
      "source": [
        "(b) training error, c = 10000, 1000000 has the lowest error"
      ]
    },
    {
      "cell_type": "code",
      "metadata": {
        "colab": {
          "base_uri": "https://localhost:8080/"
        },
        "id": "lt0SM82inRsM",
        "outputId": "c0900bbd-0487-45ff-ebb1-6ca1758a5844"
      },
      "source": [
        "k=[0.01,1,100,10**4,10**6]\n",
        "for i in k:\n",
        "  rbf_model = SVC(kernel=\"rbf\", C =i)\n",
        "  rbf_model.fit(train_x,label_x)\n",
        "  s = rbf_model.score(train_x,label_x)\n",
        "  print(f\"the score for c=  {i} is {s}\") "
      ],
      "execution_count": 44,
      "outputs": [
        {
          "output_type": "stream",
          "name": "stdout",
          "text": [
            "the score for c=  0.01 is 0.9948750800768738\n",
            "the score for c=  1 is 0.9955156950672646\n",
            "the score for c=  100 is 0.9967969250480462\n",
            "the score for c=  10000 is 0.9974375400384369\n",
            "the score for c=  1000000 is 0.9974375400384369\n"
          ]
        }
      ]
    }
  ]
}